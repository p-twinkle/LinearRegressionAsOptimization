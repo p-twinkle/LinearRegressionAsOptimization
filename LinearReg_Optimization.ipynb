{
 "cells": [
  {
   "cell_type": "markdown",
   "id": "d49adcdb-a593-497f-bee6-842d827ab698",
   "metadata": {},
   "source": [
    "### Linear Regression - Minimise MAE using Gurobi"
   ]
  },
  {
   "cell_type": "code",
   "execution_count": 1,
   "id": "2e1a3e56-73f0-47cf-9286-b06be4480426",
   "metadata": {},
   "outputs": [],
   "source": [
    "import numpy as np\n",
    "import pandas as pd\n",
    "import gurobipy as gp\n",
    "from gurobipy import GRB"
   ]
  },
  {
   "cell_type": "code",
   "execution_count": 2,
   "id": "7f71dd5e-033a-4cea-8975-78d876903dd5",
   "metadata": {},
   "outputs": [
    {
     "name": "stdout",
     "output_type": "stream",
     "text": [
      "(50, 4)\n"
     ]
    }
   ],
   "source": [
    "data = pd.read_csv('data.csv')\n",
    "print(data.shape)\n",
    "data.head()\n",
    "\n",
    "# Split X & y\n",
    "X_train = data.drop(columns=['y']).copy()\n",
    "y_train = data['y']"
   ]
  },
  {
   "cell_type": "code",
   "execution_count": 3,
   "id": "2ed04dba-dde2-45d9-914c-aebf89e536fb",
   "metadata": {},
   "outputs": [
    {
     "name": "stdout",
     "output_type": "stream",
     "text": [
      "Set parameter Username\n",
      "Academic license - for non-commercial use only - expires 2025-08-26\n",
      "Fitted Coefficients: {'x1': -4.111693619345488, 'x2': -0.00851979806807563, 'x3': -4.582930487634735}\n",
      "Fitted Intercept: 3.9406362651773237\n",
      "MAE: 0.381\n"
     ]
    },
    {
     "name": "stderr",
     "output_type": "stream",
     "text": [
      "/var/folders/v1/2b2w4wyd2mv05s43hysll80m0000gn/T/ipykernel_2383/3334237888.py:14: DeprecationWarning: Calling quicksum on a tupledict is deprecated, use .sum() instead.\n",
      "  model.setObjective(gp.quicksum(abs_errors), GRB.MINIMIZE)\n"
     ]
    }
   ],
   "source": [
    "# Create a new model\n",
    "model = gp.Model()\n",
    "\n",
    "# Coefficient variables\n",
    "coeffs = model.addVars(X_train.columns, lb=-GRB.INFINITY)\n",
    "\n",
    "# Intercept\n",
    "intercept = model.addVar(lb=-GRB.INFINITY)\n",
    "\n",
    "# Absolute error variables\n",
    "abs_errors = model.addVars(X_train.index) # Doesn't matter if lb=0 orlb=-GRB.INFINITY\n",
    "\n",
    "# Objective: Minimize the sum of absolute errors\n",
    "model.setObjective(gp.quicksum(abs_errors), GRB.MINIMIZE)\n",
    "\n",
    "# Constraints\n",
    "for i in X_train.index:\n",
    "    # Prediction\n",
    "    prediction = intercept + gp.quicksum(coeffs[j] * X_train.loc[i, j] for j in X_train.columns)\n",
    "    \n",
    "    # Constraints to define absolute error\n",
    "    model.addConstr(prediction - y_train[i] <= abs_errors[i])\n",
    "    model.addConstr(y_train[i] - prediction <= abs_errors[i])\n",
    "\n",
    "# Optimize\n",
    "model.Params.OutputFlag = 0\n",
    "model.optimize()\n",
    "\n",
    "# Co-efficients\n",
    "fitted_coeffs = {j: coeffs[j].X for j in X_train.columns}\n",
    "fitted_intercept = intercept.X\n",
    "\n",
    "print(\"Fitted Coefficients:\", fitted_coeffs)\n",
    "print(\"Fitted Intercept:\", fitted_intercept)\n",
    "print(f'MAE: {round(model.objval/50,3)}')"
   ]
  },
  {
   "cell_type": "code",
   "execution_count": 4,
   "id": "2f46d811-6c13-4494-8ffb-c42bed0a7e61",
   "metadata": {},
   "outputs": [
    {
     "name": "stdout",
     "output_type": "stream",
     "text": [
      "MAE: 0.3962276944901045\n"
     ]
    }
   ],
   "source": [
    "# Cross-check using LM from sklearn\n",
    "\n",
    "from sklearn.linear_model import LinearRegression\n",
    "from sklearn.metrics import mean_absolute_error\n",
    "\n",
    "rm = LinearRegression()\n",
    "rm.fit(X_train, y_train)\n",
    "y_pred = rm.predict(X_train)\n",
    "print(f'MAE: {mean_absolute_error(y_train, y_pred)}')"
   ]
  },
  {
   "cell_type": "code",
   "execution_count": null,
   "id": "82e30969-ee09-450b-8931-91de3944df55",
   "metadata": {},
   "outputs": [],
   "source": []
  },
  {
   "cell_type": "code",
   "execution_count": null,
   "id": "e6974335-1468-4060-bb8f-542c511b42f5",
   "metadata": {},
   "outputs": [],
   "source": []
  },
  {
   "cell_type": "code",
   "execution_count": null,
   "id": "cf3a12a6-1e8e-4fdf-95b4-72be576f8a2b",
   "metadata": {},
   "outputs": [],
   "source": []
  },
  {
   "cell_type": "code",
   "execution_count": null,
   "id": "801b4e5d-92f2-41b5-8755-23314fc38560",
   "metadata": {},
   "outputs": [],
   "source": []
  },
  {
   "cell_type": "code",
   "execution_count": null,
   "id": "138f56dd-7d50-4ba3-b0eb-f11e454852c8",
   "metadata": {},
   "outputs": [],
   "source": []
  }
 ],
 "metadata": {
  "kernelspec": {
   "display_name": "Python 3 (ipykernel)",
   "language": "python",
   "name": "python3"
  },
  "language_info": {
   "codemirror_mode": {
    "name": "ipython",
    "version": 3
   },
   "file_extension": ".py",
   "mimetype": "text/x-python",
   "name": "python",
   "nbconvert_exporter": "python",
   "pygments_lexer": "ipython3",
   "version": "3.12.5"
  }
 },
 "nbformat": 4,
 "nbformat_minor": 5
}
